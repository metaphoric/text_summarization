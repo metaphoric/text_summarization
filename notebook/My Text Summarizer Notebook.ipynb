{
 "cells": [
  {
   "cell_type": "markdown",
   "metadata": {},
   "source": [
    "# Gensim and Summy"
   ]
  },
  {
   "cell_type": "code",
   "execution_count": null,
   "metadata": {},
   "outputs": [],
   "source": [
    "'''\n",
    "pip install sumy\n",
    "pip install gensim\n",
    "==> run the code directly\n",
    "'''\n",
    "\n",
    "from gensim.summarization import summarize\n",
    "\n",
    "from sumy.summarizers import luhn\n",
    "from sumy.utils import get_stop_words\n",
    "from sumy.nlp.stemmers import Stemmer\n",
    "from sumy.summarizers.luhn import LuhnSummarizer \n",
    "from sumy.parsers.plaintext import PlaintextParser\n",
    "from sumy.nlp.tokenizers import Tokenizer as sumytoken\n",
    "from sumy.summarizers.lex_rank import LexRankSummarizer\n",
    "from sumy.summarizers.lsa import LsaSummarizer as Summarizer"
   ]
  },
  {
   "cell_type": "code",
   "execution_count": 8,
   "metadata": {},
   "outputs": [
    {
     "name": "stdout",
     "output_type": "stream",
     "text": [
      "\n",
      " ****************************** LEXRANK SUMARIZER ******************************\n",
      "Three major approaches have been pro- posed for mobile cloud applications: 1) extending the access to cloud services to mobile devices; 2) enabling mobile de- vices to work collaboratively as cloud resource providers; 3) augmenting the execution of mobile applications on portable devices using cloud resources.\n",
      "In this paper, we focus on the third approach in supporting mobile data stream applica- tions.\n",
      "\n",
      " ****************************** LSA SUMMARIZER ******************************\n",
      "We first propose a framework to provide runtime support for the dynamic computation partitioning and exe- cution of the application.\n",
      "Different from existing works, the framework not only allows the dynamic partitioning for a single user but also supports the sharing of computation in- stances among multiple users in the cloud to achieve efficient utilization of the underlying cloud resources.\n",
      "\n",
      " ****************************** LUHN SUMMARIZER ******************************\n",
      "Three major approaches have been pro- posed for mobile cloud applications: 1) extending the access to cloud services to mobile devices; 2) enabling mobile de- vices to work collaboratively as cloud resource providers; 3) augmenting the execution of mobile applications on portable devices using cloud resources.\n",
      "To the best of our knowledge, it is the first work to study the partitioning problem for mobile data stream applica- tions, where the optimization is placed on achieving high throughput of processing the streaming data rather than minimizing the makespan of executions as in other appli- cations.\n",
      "\n",
      " ****************************** GENSIM SUMMARIZER ******************************\n",
      "More specifically, we study how to optimize the com- putation partitioning of a data stream application between mobile and cloud to achieve maximum speed/throughput in processing the streaming data.\n",
      "To the best of our knowledge, it is the first work to study the partitioning problem for mobile data stream applica- tions, where the optimization is placed on achieving high throughput of processing the streaming data rather than minimizing the makespan of executions as in other appli- cations.\n"
     ]
    }
   ],
   "source": [
    "\n",
    "#LANGUAGE = \"english\"\n",
    "LANGUAGE = \"french\"\n",
    "SENTENCES_COUNT = 2\n",
    "\n",
    "#text = 'The contribution of cloud computing and mobile computing technologies lead to the newly emerging mobile cloud com- puting paradigm. Three major approaches have been pro- posed for mobile cloud applications: 1) extending the access to cloud services to mobile devices; 2) enabling mobile de- vices to work collaboratively as cloud resource providers; 3) augmenting the execution of mobile applications on portable devices using cloud resources. In this paper, we focus on the third approach in supporting mobile data stream applica- tions. More specifically, we study how to optimize the com- putation partitioning of a data stream application between mobile and cloud to achieve maximum speed/throughput in processing the streaming data. To the best of our knowledge, it is the first work to study the partitioning problem for mobile data stream applica- tions, where the optimization is placed on achieving high throughput of processing the streaming data rather than minimizing the makespan of executions as in other appli- cations. We first propose a framework to provide runtime support for the dynamic computation partitioning and exe- cution of the application. Different from existing works, the framework not only allows the dynamic partitioning for a single user but also supports the sharing of computation in- stances among multiple users in the cloud to achieve efficient utilization of the underlying cloud resources. Meanwhile, the framework has better scalability because it is designed on the elastic cloud fabrics. Based on the framework, we design a genetic algorithm for optimal computation parti- tion. Both numerical evaluation and real world experiment have been performed, and the results show that the par- titioned application can achieve at least two times better performance in terms of throughput than the application without partitioning.'\n",
    "\n",
    "text = 'La contribution des technologies de l'informatique en nuage et de l'informatique mobile a donné naissance au nouveau paradigme de l'informatique en nuage mobile. Trois approches principales ont été proposées pour les applications mobiles en nuage : 1) étendre l'accès aux services en nuage aux appareils mobiles ; 2) permettre aux services mobiles de travailler en collaboration en tant que fournisseurs de ressources en nuage ; 3) augmenter l'exécution des applications mobiles sur les appareils portables en utilisant les ressources en nuage. Dans cet article, nous nous concentrons sur la troisième approche en prenant en charge les applications mobiles de flux de données. Plus précisément, nous étudions comment optimiser le partitionnement des communications d'une application de flux de données entre le mobile et le nuage afin d'obtenir une vitesse/un débit maximum dans le traitement des données en continu. A notre connaissance, il s'agit du premier travail à étudier le problème de partitionnement pour les applications mobiles de flux de données, où l'optimisation est placée sur l'obtention d'un haut débit de traitement des données en continu plutôt que de minimiser le makespan des exécutions comme dans d'autres applications. Nous proposons d'abord un cadre pour fournir un support d'exécution pour le partitionnement dynamique des calculs et l'exécution de l'application. Contrairement aux travaux existants, le cadre permet non seulement le partitionnement dynamique pour un seul utilisateur, mais il prend également en charge le partage des ressources de calcul entre plusieurs utilisateurs dans le nuage afin de parvenir à une utilisation efficace des ressources sous-jacentes du nuage. En même temps, le cadre a une meilleure évolutivité car il est conçu sur les tissus élastiques du nuage. Sur la base de ce cadre, nous concevons un algorithme génétique pour une répartition optimale des calculs. Une évaluation numérique et une expérience dans le monde réel ont été réalisées, et les résultats montrent que l'application partitionnée peut atteindre au moins deux fois de meilleures performances en termes de débit que l'application sans partitionnement.'\n",
    "\n",
    "parser = PlaintextParser.from_string((text), sumytoken(LANGUAGE))\n",
    "stemmer = Stemmer(LANGUAGE)\n",
    "\n",
    "def lexrank_summarizer():\n",
    "    print (\"\\n\",\"*\"*30, \"LEXRANK SUMARIZER\", \"*\"*30)\n",
    "    summarizer_LexRank = LexRankSummarizer(stemmer)\n",
    "    summarizer_LexRank.stop_words = get_stop_words(LANGUAGE)\n",
    "    for sentence in summarizer_LexRank(parser.document, SENTENCES_COUNT):\n",
    "        print (sentence)\n",
    "        \n",
    "def lsa_summarizer():\n",
    "    print (\"\\n\",\"*\"*30, \"LSA SUMMARIZER\", \"*\"*30)\n",
    "    summarizer_lsa = Summarizer(stemmer)\n",
    "    summarizer_lsa.stop_words = get_stop_words(LANGUAGE)\n",
    "    for sentence in summarizer_lsa(parser.document, SENTENCES_COUNT):\n",
    "        print (sentence)\n",
    "        \n",
    "def luhn_summarizer():\n",
    "    print (\"\\n\",\"*\"*30, \"LUHN SUMMARIZER\", \"*\"*30)\n",
    "    summarizer_luhn = LuhnSummarizer(stemmer)\n",
    "    summarizer_luhn.stop_words = get_stop_words(LANGUAGE)\n",
    "    for sentence in summarizer_luhn(parser.document, SENTENCES_COUNT):\n",
    "        print (sentence)\n",
    "        \n",
    "def gensim_summarizer():\n",
    "    print (\"\\n\",\"*\"*30, \"GENSIM SUMMARIZER\", \"*\"*30)\n",
    "    print (summarize(text))\n",
    "\n",
    "\n",
    "#----Call all the functions to compare the summaries\n",
    "lexrank_summarizer()\n",
    "lsa_summarizer()\n",
    "luhn_summarizer()\n",
    "gensim_summarizer()\n"
   ]
  },
  {
   "cell_type": "code",
   "execution_count": null,
   "metadata": {},
   "outputs": [],
   "source": []
  }
 ],
 "metadata": {
  "kernelspec": {
   "display_name": "Python 3",
   "language": "python",
   "name": "python3"
  },
  "language_info": {
   "codemirror_mode": {
    "name": "ipython",
    "version": 3
   },
   "file_extension": ".py",
   "mimetype": "text/x-python",
   "name": "python",
   "nbconvert_exporter": "python",
   "pygments_lexer": "ipython3",
   "version": "3.5.2"
  }
 },
 "nbformat": 4,
 "nbformat_minor": 2
}
